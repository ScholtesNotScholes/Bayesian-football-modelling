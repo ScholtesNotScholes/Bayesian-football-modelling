{
 "cells": [
  {
   "cell_type": "markdown",
   "id": "7249cc79",
   "metadata": {},
   "source": [
    "## Libraries"
   ]
  },
  {
   "cell_type": "code",
   "execution_count": 1,
   "id": "487bd2de",
   "metadata": {},
   "outputs": [],
   "source": [
    "import pandas as pd\n",
    "import re\n",
    "import math\n",
    "import ast\n",
    "import numpy as np\n",
    "from statsbombpy import sb\n",
    "\n",
    "# Supress warnings from not having a full StatsBomb subscription:\n",
    "import warnings\n",
    "warnings.filterwarnings(\"ignore\", message=\"credentials were not supplied. open data access only\")"
   ]
  },
  {
   "cell_type": "markdown",
   "id": "48849722",
   "metadata": {},
   "source": [
    "---\n",
    "\n",
    "## Import Data\n",
    "\n",
    "Import the dataset as a csv file containing all shots in Statsbomb open data, and all columns which do not contain only missing values."
   ]
  },
  {
   "cell_type": "code",
   "execution_count": 2,
   "id": "ece4985b",
   "metadata": {},
   "outputs": [],
   "source": [
    "df = pd.read_csv(\"statsbomb_open_shots.csv\")"
   ]
  },
  {
   "cell_type": "code",
   "execution_count": 3,
   "id": "4bd0f6c5",
   "metadata": {},
   "outputs": [
    {
     "name": "stdout",
     "output_type": "stream",
     "text": [
      "<class 'pandas.core.frame.DataFrame'>\n",
      "RangeIndex: 63358 entries, 0 to 63357\n",
      "Data columns (total 42 columns):\n",
      " #   Column                 Non-Null Count  Dtype  \n",
      "---  ------                 --------------  -----  \n",
      " 0   duration               63358 non-null  float64\n",
      " 1   id                     63358 non-null  object \n",
      " 2   index                  63358 non-null  int64  \n",
      " 3   location               63358 non-null  object \n",
      " 4   match_id               63358 non-null  int64  \n",
      " 5   minute                 63358 non-null  int64  \n",
      " 6   off_camera             63 non-null     object \n",
      " 7   out                    1194 non-null   object \n",
      " 8   period                 63358 non-null  int64  \n",
      " 9   play_pattern           63358 non-null  object \n",
      " 10  player                 63358 non-null  object \n",
      " 11  player_id              63358 non-null  float64\n",
      " 12  position               63358 non-null  object \n",
      " 13  possession             63358 non-null  int64  \n",
      " 14  possession_team        63358 non-null  object \n",
      " 15  possession_team_id     63358 non-null  int64  \n",
      " 16  related_events         63358 non-null  object \n",
      " 17  second                 63358 non-null  int64  \n",
      " 18  shot_aerial_won        5639 non-null   object \n",
      " 19  shot_body_part         63358 non-null  object \n",
      " 20  shot_end_location      63358 non-null  object \n",
      " 21  shot_first_time        20959 non-null  object \n",
      " 22  shot_freeze_frame      63358 non-null  object \n",
      " 23  shot_key_pass_id       48111 non-null  object \n",
      " 24  shot_one_on_one        3550 non-null   object \n",
      " 25  shot_outcome           63358 non-null  object \n",
      " 26  shot_statsbomb_xg      63358 non-null  float64\n",
      " 27  shot_technique         63358 non-null  object \n",
      " 28  shot_type              63358 non-null  object \n",
      " 29  team                   63358 non-null  object \n",
      " 30  team_id                63358 non-null  int64  \n",
      " 31  timestamp              63358 non-null  object \n",
      " 32  type                   63358 non-null  object \n",
      " 33  under_pressure         16160 non-null  object \n",
      " 34  competition            63358 non-null  object \n",
      " 35  season                 63358 non-null  int64  \n",
      " 36  shot_deflected         842 non-null    object \n",
      " 37  shot_open_goal         741 non-null    object \n",
      " 38  shot_redirect          161 non-null    object \n",
      " 39  shot_saved_off_target  228 non-null    object \n",
      " 40  shot_saved_to_post     186 non-null    object \n",
      " 41  shot_follows_dribble   24 non-null     object \n",
      "dtypes: float64(3), int64(9), object(30)\n",
      "memory usage: 20.3+ MB\n"
     ]
    }
   ],
   "source": [
    "df.info()"
   ]
  },
  {
   "cell_type": "markdown",
   "id": "7bd9004d",
   "metadata": {},
   "source": [
    "---\n",
    "\n",
    "## Adding Extra Features\n",
    "\n",
    "Based on the StatsBomb paper about \"*Estimated Player Impact...*\", the following features will be added to the data:\n",
    "\n",
    "- Shooter distance to goal\n",
    "- GK distance to goal\n",
    "- Shot angle\n",
    "- GK present in shot triangle\n",
    "- Number of players in shot triangle\n",
    "- Body part will be changed to strong foot and weak foot instead of right and left foot\n",
    "- A binary goal column, where currently it is in the `shot_outcome` column.\n",
    "\n",
    "Also, based on some discussions with Oktay, the following will also be added:\n",
    "\n",
    "- Number of opponents in 1m radius of shooter\n",
    "- More general position of player (striker, attacking midfielder, other midfielder, defender)\n",
    "\n",
    "---\n",
    "\n",
    "### Distance to goal\n",
    "\n",
    "Before calculating this, need to convert location column to a list from a string."
   ]
  },
  {
   "cell_type": "code",
   "execution_count": 4,
   "id": "5b75ea25",
   "metadata": {},
   "outputs": [],
   "source": [
    "df.location = [ast.literal_eval(df.location[row]) for row in range(df.shape[0])]"
   ]
  },
  {
   "cell_type": "code",
   "execution_count": 5,
   "id": "36e368ce",
   "metadata": {},
   "outputs": [
    {
     "name": "stdout",
     "output_type": "stream",
     "text": [
      "\n",
      "X Coordinates:\n",
      "count    63358.0\n",
      "mean       103.9\n",
      "std          8.7\n",
      "min         35.4\n",
      "25%         97.8\n",
      "50%        105.2\n",
      "75%        110.8\n",
      "max        120.0\n",
      "dtype: float64\n",
      "\n",
      "Y Coordinates:\n",
      "count    63358.0\n",
      "mean        39.8\n",
      "std          9.9\n",
      "min          1.5\n",
      "25%         32.3\n",
      "50%         39.8\n",
      "75%         47.2\n",
      "max         79.6\n",
      "dtype: float64\n",
      "\n"
     ]
    }
   ],
   "source": [
    "print(\"\"\"\n",
    "X Coordinates:\n",
    "{}\n",
    "\n",
    "Y Coordinates:\n",
    "{}\n",
    "\"\"\".format(\n",
    "    pd.Series([df.location[row][0] for row in range(df.shape[0])]).describe().round(1),\n",
    "    pd.Series([df.location[row][1] for row in range(df.shape[0])]).describe().round(1)\n",
    "))"
   ]
  },
  {
   "cell_type": "markdown",
   "id": "fa2a6e25",
   "metadata": {},
   "source": [
    "Add distance to goal by measuring Euclidean distance to centre of the goal:"
   ]
  },
  {
   "cell_type": "code",
   "execution_count": 6,
   "id": "e5c94865",
   "metadata": {},
   "outputs": [],
   "source": [
    "goal_centre = [120,40] # From StatsBomb data spec\n",
    "\n",
    "df[\"distance_to_goal\"] = [math.dist(goal_centre, [df.location[row][0], df.location[row][1]]) for row in range(df.shape[0])]"
   ]
  },
  {
   "cell_type": "code",
   "execution_count": 7,
   "id": "5a58822e",
   "metadata": {},
   "outputs": [
    {
     "data": {
      "text/plain": [
       "count    63358.0\n",
       "mean        19.0\n",
       "std          8.6\n",
       "min          0.4\n",
       "25%         12.1\n",
       "50%         18.2\n",
       "75%         25.0\n",
       "max         88.8\n",
       "Name: distance_to_goal, dtype: float64"
      ]
     },
     "execution_count": 7,
     "metadata": {},
     "output_type": "execute_result"
    }
   ],
   "source": [
    "df.distance_to_goal.describe().round(1)"
   ]
  },
  {
   "cell_type": "markdown",
   "id": "44d1ad3a",
   "metadata": {},
   "source": [
    "---\n",
    "\n",
    "### Shot angle\n",
    "\n",
    "We need three numbers to calculate the shot angle:\n",
    "\n",
    "- Distance between the goalposts (8 from StatsBomb data spec.) = $X$\n",
    "- Distance from shooter to left goalpost = $Y$\n",
    "- Distance from shooter to right goalpost = $Z$\n",
    "\n",
    "Then, the corresponding formula to find the shot angle ($\\theta$) is:\n",
    "\n",
    "$\\theta = \\arccos(\\frac{Y^2 + Z^2 - X^2}{2YZ})$\n",
    "\n",
    "Before calculating this, we need to adress the issue of shots from the byline, shown below:"
   ]
  },
  {
   "cell_type": "code",
   "execution_count": 8,
   "id": "b808a4dc",
   "metadata": {},
   "outputs": [
    {
     "data": {
      "text/plain": [
       "538      [120.0, 44.9]\n",
       "9276     [120.0, 54.6]\n",
       "18287    [120.0, 39.6]\n",
       "25978    [120.0, 42.0]\n",
       "26998    [120.0, 43.7]\n",
       "54447    [120.0, 29.1]\n",
       "56524    [120.0, 37.8]\n",
       "Name: location, dtype: object"
      ]
     },
     "execution_count": 8,
     "metadata": {},
     "output_type": "execute_result"
    }
   ],
   "source": [
    "df.iloc[[row for row in range(df.shape[0]) if df.location[row][0] == 120]].location"
   ]
  },
  {
   "cell_type": "markdown",
   "id": "61ece875",
   "metadata": {},
   "source": [
    "These shots will cause errors when calculating shot angles since they do not create shot triangles but simply a straight line.\n",
    "\n",
    "Because there are so few of these, we simply remove them:"
   ]
  },
  {
   "cell_type": "code",
   "execution_count": 9,
   "id": "d95af6ce",
   "metadata": {},
   "outputs": [],
   "source": [
    "df = df.iloc[[row for row in range(df.shape[0]) if df.location[row][0] != 120]].reset_index(drop=True)"
   ]
  },
  {
   "cell_type": "markdown",
   "id": "d23b78fc",
   "metadata": {},
   "source": [
    "We then create a functions which returns the shot angle as above, but converted to degrees for readability:"
   ]
  },
  {
   "cell_type": "code",
   "execution_count": 10,
   "id": "621f9478",
   "metadata": {},
   "outputs": [],
   "source": [
    "def calc_shot_angle(row_index):\n",
    "    X = 8 # From StatsBomb data spec.\n",
    "    Y = math.dist([120,36], [df.location[row_index][0], df.location[row_index][1]])\n",
    "    Z = math.dist([120,44], [df.location[row_index][0], df.location[row_index][1]])\n",
    "    \n",
    "    theta = np.rad2deg(math.acos((Y**2 + Z**2 - X**2) / (2*Y*Z)))\n",
    "    \n",
    "    return theta"
   ]
  },
  {
   "cell_type": "code",
   "execution_count": 11,
   "id": "e03ac8d0",
   "metadata": {},
   "outputs": [],
   "source": [
    "df[\"shot_angle\"] = [calc_shot_angle(row) for row in range(df.shape[0])]"
   ]
  },
  {
   "cell_type": "code",
   "execution_count": 12,
   "id": "ea624de6",
   "metadata": {},
   "outputs": [
    {
     "data": {
      "text/plain": [
       "count    63351.000\n",
       "mean        25.391\n",
       "std         15.599\n",
       "min          0.660\n",
       "25%         15.148\n",
       "50%         19.856\n",
       "75%         31.011\n",
       "max        168.607\n",
       "Name: shot_angle, dtype: float64"
      ]
     },
     "execution_count": 12,
     "metadata": {},
     "output_type": "execute_result"
    }
   ],
   "source": [
    "df.shot_angle.describe().round(3)"
   ]
  },
  {
   "cell_type": "markdown",
   "id": "afad552d",
   "metadata": {},
   "source": [
    "---\n",
    "\n",
    "### Non-shooter features\n",
    "\n",
    "For these features, we have to use the `shot_freeze_frame` column, which contains information on other players on the pitch at the moment the shot is taken."
   ]
  },
  {
   "cell_type": "code",
   "execution_count": 13,
   "id": "4a33fb76",
   "metadata": {},
   "outputs": [
    {
     "data": {
      "text/plain": [
       "shot_freeze_frame\n",
       "False    63351\n",
       "Name: count, dtype: int64"
      ]
     },
     "execution_count": 13,
     "metadata": {},
     "output_type": "execute_result"
    }
   ],
   "source": [
    "df.shot_freeze_frame.isna().value_counts()"
   ]
  },
  {
   "cell_type": "markdown",
   "id": "9665f078",
   "metadata": {},
   "source": [
    "We remove the roughly 400 rows that do not contain this information."
   ]
  },
  {
   "cell_type": "code",
   "execution_count": 14,
   "id": "c80ab4ae",
   "metadata": {},
   "outputs": [],
   "source": [
    "df = df.dropna(subset=\"shot_freeze_frame\").reset_index(drop=True)"
   ]
  },
  {
   "cell_type": "code",
   "execution_count": 15,
   "id": "d5e40176",
   "metadata": {},
   "outputs": [
    {
     "data": {
      "text/plain": [
       "True     63331\n",
       "False       20\n",
       "Name: count, dtype: int64"
      ]
     },
     "execution_count": 15,
     "metadata": {},
     "output_type": "execute_result"
    }
   ],
   "source": [
    "GK_present_list = []\n",
    "\n",
    "for frame in df.shot_freeze_frame:\n",
    "    frame = ast.literal_eval(frame)\n",
    "    \n",
    "    GK_present = False\n",
    "    \n",
    "    for player in frame:\n",
    "        if player[\"position\"][\"name\"] == \"Goalkeeper\":\n",
    "            GK_present = True\n",
    "            \n",
    "    GK_present_list.append(GK_present)\n",
    "    \n",
    "pd.Series(GK_present_list).value_counts()"
   ]
  },
  {
   "cell_type": "markdown",
   "id": "d20d3720",
   "metadata": {},
   "source": [
    "For whatever reason, 12 events do not have the goalkeeper's location in the freeze frame, so we drop them."
   ]
  },
  {
   "cell_type": "code",
   "execution_count": 16,
   "id": "4e1c147d",
   "metadata": {},
   "outputs": [],
   "source": [
    "df = df.iloc[GK_present_list].reset_index(drop=True)"
   ]
  },
  {
   "cell_type": "markdown",
   "id": "d5e94eee",
   "metadata": {},
   "source": [
    "---\n",
    "\n",
    "### GK distance to goal\n",
    "\n",
    "This is calculated the same way as shooter distance to goal, so extract GK location from `shot_freeze_frame` first."
   ]
  },
  {
   "cell_type": "code",
   "execution_count": 17,
   "id": "e5cda53c",
   "metadata": {},
   "outputs": [],
   "source": [
    "def get_gk_location(row):\n",
    "    for player in ast.literal_eval(df.shot_freeze_frame[row]):\n",
    "        if player[\"position\"][\"name\"] == \"Goalkeeper\":\n",
    "            return player[\"location\"]"
   ]
  },
  {
   "cell_type": "code",
   "execution_count": 18,
   "id": "0051db56",
   "metadata": {},
   "outputs": [],
   "source": [
    "df[\"gk_location\"] = [get_gk_location(row) for row in range(df.shape[0])]"
   ]
  },
  {
   "cell_type": "code",
   "execution_count": 19,
   "id": "60479c53",
   "metadata": {},
   "outputs": [],
   "source": [
    "df[\"gk_distance_to_goal\"] = [math.dist(goal_centre, [df.gk_location[row][0], df.gk_location[row][1]]) for row in range(df.shape[0])]"
   ]
  },
  {
   "cell_type": "code",
   "execution_count": 20,
   "id": "8999f4c8",
   "metadata": {},
   "outputs": [
    {
     "data": {
      "text/plain": [
       "count    63331.0\n",
       "mean         3.6\n",
       "std          2.6\n",
       "min          0.0\n",
       "25%          2.0\n",
       "50%          3.0\n",
       "75%          4.2\n",
       "max        118.0\n",
       "Name: gk_distance_to_goal, dtype: float64"
      ]
     },
     "execution_count": 20,
     "metadata": {},
     "output_type": "execute_result"
    }
   ],
   "source": [
    "df.gk_distance_to_goal.describe().round(1)"
   ]
  },
  {
   "cell_type": "markdown",
   "id": "8239bf9b",
   "metadata": {},
   "source": [
    "---\n",
    "\n",
    "### GK present in shot triangle\n",
    "\n",
    "The shot triangle is constructed by the goal line, and the lines from the shot to each of the goal-posts.\n",
    "\n",
    "A general function is defined which determines if a given player is in the shot triangle or not. This will be done using a barycentric coordinate system, as described here: http://totologic.blogspot.com/2014/01/accurate-point-in-triangle-test.html."
   ]
  },
  {
   "cell_type": "code",
   "execution_count": 21,
   "id": "7d3da499",
   "metadata": {},
   "outputs": [],
   "source": [
    "def player_in_shot_triangle(x1,y1,x,y):\n",
    "    \"\"\"\n",
    "    Checks if a point (x,y), giving a player's location on the pitch, is in the \n",
    "    shot triangle defined by the shot location (x1,y1) and the two goalposts.\n",
    "    \"\"\"\n",
    "    \n",
    "    # left_goalpost:\n",
    "    x2, y2 = 120, 36\n",
    "    # right_goalpost:\n",
    "    x3, y3 = 120, 44\n",
    "\n",
    "    a = ((y2-y3)*(x-x3) + (x3-x2)*(y-y3)) / ((y2-y3)*(x1-x3) + (x3-x2)*(y1-y3))\n",
    "    b = ((y3-y1)*(x-x3) + (x1-x3)*(y-y3)) / ((y2-y3)*(x1-x3) + (x3-x2)*(y1-y3))\n",
    "    c = 1-a-b\n",
    "\n",
    "    if (0<=a<=1) & (0<=b<=1) & (0<=c<=1):\n",
    "        return True\n",
    "    else:\n",
    "        return False"
   ]
  },
  {
   "cell_type": "code",
   "execution_count": 22,
   "id": "18da7453",
   "metadata": {},
   "outputs": [],
   "source": [
    "df[\"gk_in_shot_triangle\"] = [player_in_shot_triangle(df.location[row][0], df.location[row][1], df.gk_location[row][0], df.gk_location[row][1]) for row in range(df.shape[0])]"
   ]
  },
  {
   "cell_type": "code",
   "execution_count": 23,
   "id": "1982e5c0",
   "metadata": {},
   "outputs": [
    {
     "data": {
      "text/plain": [
       "gk_in_shot_triangle\n",
       "True     60591\n",
       "False     2740\n",
       "Name: count, dtype: int64"
      ]
     },
     "execution_count": 23,
     "metadata": {},
     "output_type": "execute_result"
    }
   ],
   "source": [
    "df.gk_in_shot_triangle.value_counts()"
   ]
  },
  {
   "cell_type": "markdown",
   "id": "4e8502b7",
   "metadata": {},
   "source": [
    "---\n",
    "\n",
    "### Number of players in shot triangle\n",
    "\n",
    "To calculate this, we just apply the function above to each player in the `shot_freeze_frame` for a shot."
   ]
  },
  {
   "cell_type": "code",
   "execution_count": 24,
   "id": "078c5b72",
   "metadata": {},
   "outputs": [],
   "source": [
    "def count_players_in_shot_triangle(x1,y1, freeze_frame):\n",
    "    current_count = 0\n",
    "    \n",
    "    for player in ast.literal_eval(freeze_frame):\n",
    "        if player_in_shot_triangle(x1,y1, player[\"location\"][0], player[\"location\"][1]):\n",
    "            current_count += 1\n",
    "            \n",
    "    return current_count"
   ]
  },
  {
   "cell_type": "code",
   "execution_count": 25,
   "id": "7727ccdd",
   "metadata": {},
   "outputs": [],
   "source": [
    "df[\"players_in_shot_triangle\"] = [count_players_in_shot_triangle(df.location[row][0], df.location[row][1], df.shot_freeze_frame[row]) for row in range(df.shape[0])]"
   ]
  },
  {
   "cell_type": "code",
   "execution_count": 26,
   "id": "96081c0d",
   "metadata": {},
   "outputs": [
    {
     "data": {
      "text/plain": [
       "players_in_shot_triangle\n",
       "1     30272\n",
       "2     19490\n",
       "3      6805\n",
       "4      2918\n",
       "0      1786\n",
       "5      1217\n",
       "6       513\n",
       "7       211\n",
       "8        77\n",
       "9        29\n",
       "10       11\n",
       "11        2\n",
       "Name: count, dtype: int64"
      ]
     },
     "execution_count": 26,
     "metadata": {},
     "output_type": "execute_result"
    }
   ],
   "source": [
    "df.players_in_shot_triangle.value_counts()"
   ]
  },
  {
   "cell_type": "markdown",
   "id": "312fc054",
   "metadata": {},
   "source": [
    "---\n",
    "\n",
    "### Number of opponents in 1m radius of shooter\n",
    "\n",
    "The decision to use only opposition players in the radius and all players in the shot triangle, is that event teammates in the shot triangle often accidentally disrupt a shot because they have so little time to react or are not facing the shooter. However, if a teammate is outside of the shot triangle they will rarely disrupt the shot, only opponents will actively try to apply pressure or block the shot even when outside the shot triangle.\n",
    "\n",
    "To calculate this number, we simply calculate the euclidean distance from each player to the shooter, and add them to the count if less than or equal to 1."
   ]
  },
  {
   "cell_type": "code",
   "execution_count": 27,
   "id": "968cb814",
   "metadata": {},
   "outputs": [],
   "source": [
    "def count_opponents_in_radius(x1,y1, freeze_frame_list, radius):\n",
    "    current_count = 0\n",
    "    \n",
    "    for player in ast.literal_eval(freeze_frame_list):\n",
    "        if math.dist([x1,y1], player[\"location\"]) <= radius:\n",
    "            current_count += 1\n",
    "            \n",
    "    return current_count"
   ]
  },
  {
   "cell_type": "code",
   "execution_count": 28,
   "id": "b20afa0a",
   "metadata": {},
   "outputs": [],
   "source": [
    "df[\"opponents_in_radius\"] = [count_opponents_in_radius(df.location[row][0], df.location[row][1], df.shot_freeze_frame[row], 1) for row in range(df.shape[0])]"
   ]
  },
  {
   "cell_type": "code",
   "execution_count": 29,
   "id": "fe9cfe34",
   "metadata": {},
   "outputs": [
    {
     "data": {
      "text/plain": [
       "opponents_in_radius\n",
       "0    55552\n",
       "1     7036\n",
       "2      662\n",
       "3       71\n",
       "4       10\n",
       "Name: count, dtype: int64"
      ]
     },
     "execution_count": 29,
     "metadata": {},
     "output_type": "execute_result"
    }
   ],
   "source": [
    "df.opponents_in_radius.value_counts()"
   ]
  },
  {
   "cell_type": "markdown",
   "id": "f8159f10",
   "metadata": {},
   "source": [
    "---\n",
    "\n",
    "### General player positions\n",
    "\n",
    "We classify players into:\n",
    "\n",
    "- Strikers (ST)\n",
    "- Attacking midfielders (AM)\n",
    "- Non-attacking midfielders (M)\n",
    "- Defenders (D)\n",
    "\n",
    "We expect players who are playing as strikers to be chosen largely for their goalscoring ability, while attacking midfielders may be more facilitators but obviously still with attacking talent. Thereafter, we have other midfielders who could be more defensive-minded or focusing on keeping the ball in possession. Finally, defenders will generally not be focusing on actually scoring goals.\n",
    "\n",
    "Since players don't always play in the same position, and sometimes have to play in unnatural positions, we assign each player their most common position before converting to the aggregated positions above."
   ]
  },
  {
   "cell_type": "code",
   "execution_count": 30,
   "id": "056a2bc6-64d4-45ad-8e51-f8acfd5f2370",
   "metadata": {},
   "outputs": [],
   "source": [
    "mode_position_lookup = pd.DataFrame({\"player\": df.player.unique(),\n",
    "                                     \"position\": [df[df.player == player].position.mode()[0] for player in df.player.unique()]})\n",
    "\n",
    "df[\"mode_position\"] = [mode_position_lookup[mode_position_lookup.player == df.player[row]].position.values[0] for row in df.index]"
   ]
  },
  {
   "cell_type": "code",
   "execution_count": 31,
   "id": "cf83d404-568c-4f18-85b0-c6c1fb181756",
   "metadata": {},
   "outputs": [
    {
     "data": {
      "text/plain": [
       "mode_position\n",
       "Center Forward               11047\n",
       "Right Wing                    7894\n",
       "Left Wing                     7083\n",
       "Center Attacking Midfield     4969\n",
       "Left Center Midfield          3479\n",
       "Left Center Forward           3204\n",
       "Right Center Midfield         3169\n",
       "Right Center Forward          2834\n",
       "Right Center Back             2441\n",
       "Left Back                     2429\n",
       "Right Back                    2420\n",
       "Left Defensive Midfield       2203\n",
       "Left Center Back              2175\n",
       "Left Midfield                 1957\n",
       "Right Defensive Midfield      1880\n",
       "Right Midfield                1770\n",
       "Center Defensive Midfield     1402\n",
       "Right Wing Back                362\n",
       "Left Wing Back                 310\n",
       "Center Back                    170\n",
       "Left Attacking Midfield         79\n",
       "Right Attacking Midfield        37\n",
       "Goalkeeper                       6\n",
       "Center Midfield                  6\n",
       "Secondary Striker                5\n",
       "Name: count, dtype: int64"
      ]
     },
     "execution_count": 31,
     "metadata": {},
     "output_type": "execute_result"
    }
   ],
   "source": [
    "df.mode_position.value_counts()"
   ]
  },
  {
   "cell_type": "markdown",
   "id": "1f5560f6",
   "metadata": {},
   "source": [
    "We classify the players into general positions as follows:\n",
    "\n",
    "**Strikers:**\n",
    "- L/R/C Center Forward\n",
    "\n",
    "**Attacking Midfielders:**\n",
    "- L/R Wing\n",
    "- L/R/C Attacking Midfield\n",
    "- Secondary Striker\n",
    "\n",
    "**Non-Attacking Midfielders:**\n",
    "- L/R/C Center Midfield\n",
    "- L/R Midfield\n",
    "- L/R/C Defensive Midfield\n",
    "\n",
    "**Defenders:**\n",
    "- L/R/C Center Back\n",
    "- L/R Back\n",
    "- L/R Wing Back\n",
    "- Goalkeeper"
   ]
  },
  {
   "cell_type": "code",
   "execution_count": 32,
   "id": "3a8d8e90-c65d-44ab-a25f-a7764dfb2ab4",
   "metadata": {},
   "outputs": [],
   "source": [
    "def general_position(row):\n",
    "    if df.mode_position[row] in [\"Center Forward\",\"Left Center Forward\",\"Right Center Forward\"]:\n",
    "        return \"ST\"\n",
    "    elif df.mode_position[row] in [\"Left Wing\",\"Right Wing\",\"Left Attacking Midfield\",\"Right Attacking Midfield\",\"Center Attacking Midfield\",\"Secondary Striker\"]:\n",
    "        return \"AM\"\n",
    "    elif df.mode_position[row] in [\"Left Center Midfield\",\"Right Center Midfield\",\"Center Midfield\",\"Left Midfield\",\"Right Midfield\",\"Left Defensive Midfield\",\"Right Defensive Midfield\",\"Center Defensive Midfield\"]:\n",
    "        return \"M\"\n",
    "    else:\n",
    "        return \"D\""
   ]
  },
  {
   "cell_type": "code",
   "execution_count": 33,
   "id": "ddc143f1",
   "metadata": {},
   "outputs": [],
   "source": [
    "df[\"general_position\"] = [general_position(row) for row in range(df.shape[0])]"
   ]
  },
  {
   "cell_type": "code",
   "execution_count": 34,
   "id": "483f3772",
   "metadata": {},
   "outputs": [
    {
     "data": {
      "text/plain": [
       "general_position\n",
       "AM    20067\n",
       "ST    17085\n",
       "M     15866\n",
       "D     10313\n",
       "Name: count, dtype: int64"
      ]
     },
     "execution_count": 34,
     "metadata": {},
     "output_type": "execute_result"
    }
   ],
   "source": [
    "df.general_position.value_counts(dropna=False)"
   ]
  },
  {
   "cell_type": "markdown",
   "id": "f5a4a293",
   "metadata": {},
   "source": [
    "---\n",
    "\n",
    "### Body part\n",
    "\n",
    "In the StatsBomb paper, this feature is created by selecting whichever foot a given player plays most passes with. It makes sense to use passes instead of shots because it is more likely with a pass that you are able to choose which foot you use, whereas with a shot you have limited time so likely have to shoot with your less preferred foot more often. However, since we only have data on shots we have to go back to the overall data to obtain this.\n",
    "\n",
    "**NOTE: This cell takes over an hour to run on my machine (see times below).**"
   ]
  },
  {
   "cell_type": "code",
   "execution_count": 42,
   "id": "596bdc75",
   "metadata": {},
   "outputs": [
    {
     "name": "stdout",
     "output_type": "stream",
     "text": [
      "CPU times: total: 43min 40s\n",
      "Wall time: 1h 12min 3s\n"
     ]
    }
   ],
   "source": [
    "%%time\n",
    "\n",
    "passes = pd.DataFrame()\n",
    "\n",
    "for season_index,season in sb.competitions().query(\"competition_gender == 'male' & season_id != 76\").iterrows():\n",
    "    for match_index,match in sb.matches(season_id=season.season_id, competition_id=season.competition_id).iterrows():\n",
    "        match_passes = sb.events(match_id=match.match_id).query(\"(type == 'Pass') & (pass_body_part.isin(['Right Foot','Left Foot']))\").loc[:,[\"player\",\"pass_body_part\"]]\n",
    "        passes = pd.concat([passes, match_passes], ignore_index=True)"
   ]
  },
  {
   "cell_type": "markdown",
   "id": "867410cf",
   "metadata": {},
   "source": [
    "Create index for player IDs and their preferred foot based on most common foot for passing. Also, we remove players from `df` who did not make a pass, so we do not know their preferred foot, as well as players who had the same number of passes on each foot to simplify analysis (there aren't many)."
   ]
  },
  {
   "cell_type": "code",
   "execution_count": 63,
   "id": "d991b979-9953-48b6-bf34-6f0aa603b984",
   "metadata": {},
   "outputs": [],
   "source": [
    "df = df[df.player.isin(passes.player.unique())].copy()"
   ]
  },
  {
   "cell_type": "code",
   "execution_count": 110,
   "id": "08e6b922",
   "metadata": {},
   "outputs": [],
   "source": [
    "preferred_foot = pd.DataFrame()\n",
    "\n",
    "preferred_foot[\"player\"] = df.player.sort_values().unique()\n",
    "\n",
    "preferred_foot[\"foot\"] = passes[passes.player.isin(preferred_foot.player)].groupby(\"player\").pass_body_part.agg(pd.Series.mode).values\n",
    "\n",
    "preferred_foot = preferred_foot.query(\"foot in ['Left Foot', 'Right Foot']\").copy()\n",
    "\n",
    "df = df[df.player.isin(preferred_foot.player)].reset_index(drop=True).copy()"
   ]
  },
  {
   "cell_type": "code",
   "execution_count": 111,
   "id": "766b9210-883c-46b2-95b6-e93ae1c0bf6b",
   "metadata": {},
   "outputs": [
    {
     "data": {
      "text/html": [
       "<div>\n",
       "<style scoped>\n",
       "    .dataframe tbody tr th:only-of-type {\n",
       "        vertical-align: middle;\n",
       "    }\n",
       "\n",
       "    .dataframe tbody tr th {\n",
       "        vertical-align: top;\n",
       "    }\n",
       "\n",
       "    .dataframe thead th {\n",
       "        text-align: right;\n",
       "    }\n",
       "</style>\n",
       "<table border=\"1\" class=\"dataframe\">\n",
       "  <thead>\n",
       "    <tr style=\"text-align: right;\">\n",
       "      <th></th>\n",
       "      <th>player</th>\n",
       "      <th>foot</th>\n",
       "    </tr>\n",
       "  </thead>\n",
       "  <tbody>\n",
       "    <tr>\n",
       "      <th>0</th>\n",
       "      <td>Aaron Cresswell</td>\n",
       "      <td>Left Foot</td>\n",
       "    </tr>\n",
       "    <tr>\n",
       "      <th>1</th>\n",
       "      <td>Aaron Hunt</td>\n",
       "      <td>Left Foot</td>\n",
       "    </tr>\n",
       "    <tr>\n",
       "      <th>2</th>\n",
       "      <td>Aaron Lennon</td>\n",
       "      <td>Right Foot</td>\n",
       "    </tr>\n",
       "    <tr>\n",
       "      <th>3</th>\n",
       "      <td>Aaron Mooy</td>\n",
       "      <td>Right Foot</td>\n",
       "    </tr>\n",
       "    <tr>\n",
       "      <th>4</th>\n",
       "      <td>Aaron Ramsey</td>\n",
       "      <td>Right Foot</td>\n",
       "    </tr>\n",
       "  </tbody>\n",
       "</table>\n",
       "</div>"
      ],
      "text/plain": [
       "            player        foot\n",
       "0  Aaron Cresswell   Left Foot\n",
       "1       Aaron Hunt   Left Foot\n",
       "2     Aaron Lennon  Right Foot\n",
       "3       Aaron Mooy  Right Foot\n",
       "4     Aaron Ramsey  Right Foot"
      ]
     },
     "execution_count": 111,
     "metadata": {},
     "output_type": "execute_result"
    }
   ],
   "source": [
    "preferred_foot.head()"
   ]
  },
  {
   "cell_type": "markdown",
   "id": "90de4570-8591-4d8e-b4ae-1f5fb1af04a8",
   "metadata": {},
   "source": [
    "Check process with some obvious players:"
   ]
  },
  {
   "cell_type": "code",
   "execution_count": 112,
   "id": "65251dd8-3d64-455f-bf3f-d207c4ab7de4",
   "metadata": {},
   "outputs": [
    {
     "data": {
      "text/html": [
       "<div>\n",
       "<style scoped>\n",
       "    .dataframe tbody tr th:only-of-type {\n",
       "        vertical-align: middle;\n",
       "    }\n",
       "\n",
       "    .dataframe tbody tr th {\n",
       "        vertical-align: top;\n",
       "    }\n",
       "\n",
       "    .dataframe thead th {\n",
       "        text-align: right;\n",
       "    }\n",
       "</style>\n",
       "<table border=\"1\" class=\"dataframe\">\n",
       "  <thead>\n",
       "    <tr style=\"text-align: right;\">\n",
       "      <th></th>\n",
       "      <th>player</th>\n",
       "      <th>foot</th>\n",
       "    </tr>\n",
       "  </thead>\n",
       "  <tbody>\n",
       "    <tr>\n",
       "      <th>2348</th>\n",
       "      <td>Lionel Andrés Messi Cuccittini</td>\n",
       "      <td>Left Foot</td>\n",
       "    </tr>\n",
       "  </tbody>\n",
       "</table>\n",
       "</div>"
      ],
      "text/plain": [
       "                              player       foot\n",
       "2348  Lionel Andrés Messi Cuccittini  Left Foot"
      ]
     },
     "execution_count": 112,
     "metadata": {},
     "output_type": "execute_result"
    }
   ],
   "source": [
    "preferred_foot[[\"Messi\" in preferred_foot.player[row] for row in preferred_foot.index]]"
   ]
  },
  {
   "cell_type": "code",
   "execution_count": 113,
   "id": "5919ddc9-9fc8-4d71-ab77-605cf2107593",
   "metadata": {},
   "outputs": [
    {
     "data": {
      "text/html": [
       "<div>\n",
       "<style scoped>\n",
       "    .dataframe tbody tr th:only-of-type {\n",
       "        vertical-align: middle;\n",
       "    }\n",
       "\n",
       "    .dataframe tbody tr th {\n",
       "        vertical-align: top;\n",
       "    }\n",
       "\n",
       "    .dataframe thead th {\n",
       "        text-align: right;\n",
       "    }\n",
       "</style>\n",
       "<table border=\"1\" class=\"dataframe\">\n",
       "  <thead>\n",
       "    <tr style=\"text-align: right;\">\n",
       "      <th></th>\n",
       "      <th>player</th>\n",
       "      <th>foot</th>\n",
       "    </tr>\n",
       "  </thead>\n",
       "  <tbody>\n",
       "    <tr>\n",
       "      <th>737</th>\n",
       "      <td>Cristiano Ronaldo dos Santos Aveiro</td>\n",
       "      <td>Right Foot</td>\n",
       "    </tr>\n",
       "  </tbody>\n",
       "</table>\n",
       "</div>"
      ],
      "text/plain": [
       "                                  player        foot\n",
       "737  Cristiano Ronaldo dos Santos Aveiro  Right Foot"
      ]
     },
     "execution_count": 113,
     "metadata": {},
     "output_type": "execute_result"
    }
   ],
   "source": [
    "preferred_foot[[\"Cristiano Ronaldo\" in preferred_foot.player[row] for row in preferred_foot.index]]"
   ]
  },
  {
   "cell_type": "code",
   "execution_count": 114,
   "id": "f3732b10-c32f-494b-841d-f88d2ed736ca",
   "metadata": {},
   "outputs": [
    {
     "data": {
      "text/html": [
       "<div>\n",
       "<style scoped>\n",
       "    .dataframe tbody tr th:only-of-type {\n",
       "        vertical-align: middle;\n",
       "    }\n",
       "\n",
       "    .dataframe tbody tr th {\n",
       "        vertical-align: top;\n",
       "    }\n",
       "\n",
       "    .dataframe thead th {\n",
       "        text-align: right;\n",
       "    }\n",
       "</style>\n",
       "<table border=\"1\" class=\"dataframe\">\n",
       "  <thead>\n",
       "    <tr style=\"text-align: right;\">\n",
       "      <th></th>\n",
       "      <th>player</th>\n",
       "      <th>foot</th>\n",
       "    </tr>\n",
       "  </thead>\n",
       "  <tbody>\n",
       "    <tr>\n",
       "      <th>389</th>\n",
       "      <td>Arjen Robben</td>\n",
       "      <td>Left Foot</td>\n",
       "    </tr>\n",
       "  </tbody>\n",
       "</table>\n",
       "</div>"
      ],
      "text/plain": [
       "           player       foot\n",
       "389  Arjen Robben  Left Foot"
      ]
     },
     "execution_count": 114,
     "metadata": {},
     "output_type": "execute_result"
    }
   ],
   "source": [
    "preferred_foot[[\"Robben\" in preferred_foot.player[row] for row in preferred_foot.index]]"
   ]
  },
  {
   "cell_type": "markdown",
   "id": "630b965a",
   "metadata": {},
   "source": [
    "Reassign `shot_body_part` with preferred or other foot as opposed to right and left foot. Here, we remove players who didn't make a pass and thus do not have a preferred foot in our lookup table."
   ]
  },
  {
   "cell_type": "code",
   "execution_count": 116,
   "id": "6f2896e0",
   "metadata": {},
   "outputs": [],
   "source": [
    "def assign_preferred_foot(row_index):\n",
    "    if df.shot_body_part[row_index] in [\"Right Foot\", \"Left Foot\"]:\n",
    "        if preferred_foot[preferred_foot.player == df.player[row_index]].foot.values[0] == df.shot_body_part[row_index]:\n",
    "            return \"Preferred Foot\"\n",
    "        else:\n",
    "            return \"Other Foot\"\n",
    "    else:\n",
    "        return df.shot_body_part[row_index]"
   ]
  },
  {
   "cell_type": "code",
   "execution_count": 117,
   "id": "f8a1493b",
   "metadata": {},
   "outputs": [],
   "source": [
    "df[\"shot_body_part\"] = [assign_preferred_foot(row) for row in range(df.shape[0])]"
   ]
  },
  {
   "cell_type": "code",
   "execution_count": 118,
   "id": "34a79147",
   "metadata": {},
   "outputs": [
    {
     "data": {
      "text/plain": [
       "shot_body_part\n",
       "Preferred Foot    40738\n",
       "Other Foot        11733\n",
       "Head              10647\n",
       "Other               191\n",
       "Name: count, dtype: int64"
      ]
     },
     "execution_count": 118,
     "metadata": {},
     "output_type": "execute_result"
    }
   ],
   "source": [
    "df.shot_body_part.value_counts(dropna=False)"
   ]
  },
  {
   "cell_type": "markdown",
   "id": "a80453ea",
   "metadata": {},
   "source": [
    "---\n",
    "\n",
    "### Goal indicator"
   ]
  },
  {
   "cell_type": "code",
   "execution_count": 119,
   "id": "da64ace9",
   "metadata": {},
   "outputs": [],
   "source": [
    "df[\"goal\"] = df.shot_outcome == \"Goal\""
   ]
  },
  {
   "cell_type": "markdown",
   "id": "e189ea60",
   "metadata": {},
   "source": [
    "---\n",
    "\n",
    "## Write to CSV"
   ]
  },
  {
   "cell_type": "code",
   "execution_count": 123,
   "id": "a84fd04c",
   "metadata": {},
   "outputs": [],
   "source": [
    "df.to_csv(\"statsbomb_open_shots_extended.csv\", index=False)"
   ]
  }
 ],
 "metadata": {
  "kernelspec": {
   "display_name": "Python 3 (ipykernel)",
   "language": "python",
   "name": "python3"
  },
  "language_info": {
   "codemirror_mode": {
    "name": "ipython",
    "version": 3
   },
   "file_extension": ".py",
   "mimetype": "text/x-python",
   "name": "python",
   "nbconvert_exporter": "python",
   "pygments_lexer": "ipython3",
   "version": "3.11.4"
  }
 },
 "nbformat": 4,
 "nbformat_minor": 5
}
